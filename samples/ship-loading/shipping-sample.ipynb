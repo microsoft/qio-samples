{
 "cells": [
  {
   "cell_type": "markdown",
   "metadata": {},
   "source": [
    "# Optimization Sample: Shipping\n",
    "\n",
    "This notebook follows a sample shipping company that has a difficult business problem: balancing the loads of container ships at port. We'll apply the power of QIO to generate a solution to a simplified version of this problem."
   ]
  },
  {
   "cell_type": "markdown",
   "metadata": {},
   "source": [
    "## Pre-requisites\n",
    "\n",
    "1. [Create an Azure Quantum Workspace](https://github.com/MicrosoftDocs/quantum-docs-private/wiki/Create-quantum-workspaces-with-the-Azure-portal)\n",
    "2. [Install the `azure-quantum` Python module](https://github.com/MicrosoftDocs/quantum-docs-private/wiki/Use-the-Python-SDK-for-Quantum-Inspired-Optimization)."
   ]
  },
  {
   "cell_type": "markdown",
   "metadata": {},
   "source": [
    "\n",
    "## The Problem\n",
    "Contoso Logistics Inc is a world class freight company operating a fleet of large container ships. When these ships are docked at port Contoso Logistics needs to distribute containers between the two ships as evenly as possible. If they make one ship significantly heavier than the other then it will move slower and consume more fuel - delaying shipments and costing a significant amount of money! To make things harder, the weights of individual containers can vary greatly so it's not easy to divide them.\n",
    "\n",
    "This problem is known as the Number partitioning problem and is NP-complete. It is however relatively straightforward to apply Quantum Inspired Optimization (QIO) to it to generate a good solution. Let's explore how.\n",
    "\n",
    "## What does it mean to Optimize?\n",
    "We're using Quantum-Inspired Optimization to solve this problem - but what does that actually mean?\n",
    "\n",
    "In our case, optimize means \"to find a solution with minimal cost\" - which is exactly what the Solvers in Azure Quantum do. They take a representation of a difficult problem and apply techniques from physics to find a solution with the least cost.\n",
    "\n",
    "> Note that solvers can be applied to very difficult problems where it's infeasible to confirm whether the solution found is the best solution that exists. So keep in mind that there may be better solutions than those returned by the solvers.\n",
    "\n",
    "The solvers in Azure Quantum expect a `Binary Optimization Problem`, which is a problem expressed in the following (simplified) format:\n",
    "$$  H = \\Large\\sum_{i} w_{i}x_{i} + \\sum_{i,j} w_{i,j}x_{i}x_{j} $$\n",
    "$$\n",
    "x_{i} \\in \\left\\{\n",
    "        \\begin{array}{ll}\n",
    "            0 & \\quad \\\\\n",
    "            1 & \\quad\n",
    "        \\end{array}\n",
    "    \\right.\n",
    "\\text{or}\\quad\n",
    "x_{i} \\in \\left\\{\n",
    "        \\begin{array}{ll}\n",
    "            1 & \\quad \\\\\n",
    "            -1 & \\quad\n",
    "        \\end{array}\n",
    "    \\right.\n",
    "$$\n",
    "\n",
    "That is, a summation that is composed of weights ${w}$, and binary variables ${x_i}$. Let's explore how you formulate such a problem."
   ]
  },
  {
   "cell_type": "markdown",
   "metadata": {},
   "source": [
    "\n",
    "## Understanding the Problem\n",
    "In the number partitioning problem, we have a set ${W}$ of container weights which we would like to partition into two sets: ${W_a}$ and ${W_b}$ (containers on the ships, ${a}$ and ${b}$). In this section, our goal will be to develop a representation of the problem that we can provide to the QIO solver.\n",
    "\n",
    "## Breaking down the Problem\n",
    "Let's start by coming up with an equation for the weight of a given ship, which is the sum of all the containers on the ship. This is expressed in the below equation, where ${w_i}$ is the weight of container ${i}$:\n",
    "\n",
    "$$ \\Large\\sum_{i} w_{i} $$\n",
    "\n",
    "Ideally, we'd like a solution where the weight difference between the ships is as small as possible. This is expressed by the following expression:\n",
    "\n",
    "$$ H = \\Large\\sum_{i \\in A} w_i - \\Large\\sum_{i \\in B} w_i $$\n",
    "\n",
    "If the value of ${H}$ is zero, we know the ships are equally loaded.\n",
    "\n",
    "Next, we'll introduce a variable, ${x_i}$, to represent whether an individual container ${i}$ is assigned to ship ${a}$ or ship ${b}$. Because we can assign the container ${i}$ to either ship, the variable ${x_i}$ can be take on two different values - which makes it a `binary` variable. For convenience, we'll say the two values it can take on are ${1}$ and ${-1}$. ${1}$ will represent that the container is placed on ship ${a}$, and ${-1}$ will represent that the container is placed on ship ${b}$.\n",
    "\n",
    "> Because of our choice to make ${i}$ be either ${1}$ or ${-1}$ this type of problem is called an `Ising` problem.\n",
    "\n",
    "By introducing this variable ${x_i}$ to the previous equation, it can be simplified to:\n",
    "\n",
    "$$ H = \\Large\\sum_{i \\in A \\cup B} w_ix_i $$\n",
    "\n",
    "where $$ x_i = \\begin{cases} +1 & \\textrm{if   }i \\in A \\\\ -1 & \\textrm{if   }i \\in B \\end{cases} $$\n",
    "\n",
    "The function ${H}$ will be called our `cost function` as it describes the cost of a given solution.\n",
    "\n",
    "> The letter ${H}$ is traditionally used to represent a cost function and is also referred to as a `Hamiltonian` in a nod towards the quantum mechanical roots of Quantum-Inspired Optimization techniques."
   ]
  },
  {
   "cell_type": "markdown",
   "metadata": {},
   "source": [
    "## The final model\n",
    "There's one last change we need to make before we can solve our problem. If we look at our cost function ${H}$ there's a flaw: the solution with the _least_ cost is to simply assign all containers to ship ${b}$ by setting all ${x_i}={-1}$ - that's not right! To fix this we'll take a simple step - we'll square the right hand side of the equation so that it cannot be negative:\n",
    "\n",
    "$$ H^{2} = \\Large(\\sum_{i \\in A \\cup B} w_{i} x_{i})^{2} $$\n",
    "\n",
    "This is somewhat arbitrary, but it yields a cost function with the right properties:\n",
    "- If all the containers are on one ship, the function is at its highest value - reflecting that this is the least optimal solution\n",
    "- If the containers are perfectly balanced, the value of the summation inside the square is ${0}$ - the function is at its lowest value\n",
    "- In this case, we don't care about the actual value of ${H}$, just that it's as small as possible.\n",
    "\n",
    "Next, let's express this problem in Python and solve it for a few cases."
   ]
  },
  {
   "cell_type": "markdown",
   "metadata": {},
   "source": [
    "\n",
    "## Solving the Problem in Python\n",
    "\n",
    "First, we must instantiate a `Workspace` object which allows you to connect to the Workspace you've previously deployed in Azure. Be sure to fill in the settings below which can be retrieved by running `az quantum workspace show`."
   ]
  },
  {
   "cell_type": "code",
   "execution_count": null,
   "metadata": {},
   "outputs": [],
   "source": [
    "from azure.quantum import Workspace\n",
    "\n",
    "# Copy the settings for your workspace below\n",
    "workspace = Workspace(\n",
    "    subscription_id=    \"\", # add your subscription_id\n",
    "    resource_group=     \"\", # add your resource_group\n",
    "    name=               \"\", # add your workspace name\n",
    ")\n",
    "\n",
    "workspace.login()"
   ]
  },
  {
   "cell_type": "markdown",
   "metadata": {},
   "source": [
    "Next, we'll define a function that takes an array of container weights and returns a `Problem` object that represents the cost function."
   ]
  },
  {
   "cell_type": "code",
   "execution_count": null,
   "metadata": {},
   "outputs": [],
   "source": [
    "from typing import List\n",
    "from azure.quantum.optimization import Problem, ProblemType, Term\n",
    "\n",
    "def createProblemForContainerWeights(containerWeights: List[int]) -> Problem:\n",
    "    terms: List[Term] = []\n",
    "\n",
    "    # Expand the squared summation\n",
    "    for i in range(len(containerWeights)):\n",
    "        for j in range(len(containerWeights)):\n",
    "            if i == j:\n",
    "                # Skip the terms where i == j as they form constant terms in an Ising problem and can be disregarded:\n",
    "                # w_i∗w_j∗x_i∗x_j = w_i​*w_j∗(x_i)^2 = w_i∗w_j​​\n",
    "                # for x_i = x_j, x_i ∈ {1, -1}\n",
    "                continue\n",
    "            \n",
    "            terms.append(\n",
    "                Term(\n",
    "                    w = containerWeights[i] * containerWeights[j],\n",
    "                    indices = [i, j]\n",
    "                )\n",
    "            )\n",
    "\n",
    "    # Return an Ising-type problem\n",
    "    return Problem(name=\"Ship Sample Problem\", problem_type=ProblemType.ising, terms=terms)"
   ]
  },
  {
   "cell_type": "markdown",
   "metadata": {},
   "source": [
    "Next, we'll define the list of containers and their weights and instantiate a problem:"
   ]
  },
  {
   "cell_type": "code",
   "execution_count": null,
   "metadata": {},
   "outputs": [],
   "source": [
    "# This array contains a list of the weights of the containers\n",
    "containerWeights = [1, 5, 9, 21, 35, 5, 3, 5, 10, 11]\n",
    "\n",
    "# Create a problem for the list of containers:\n",
    "problem = createProblemForContainerWeights(containerWeights)"
   ]
  },
  {
   "cell_type": "markdown",
   "metadata": {},
   "source": [
    "Now, submit it to Azure using the ParallelTempering solver:\n",
    "\n",
    "> We'll use Parameter-Free Parallel Tempering with a timeout of 100 seconds. Solver selection and tuning is beyond the scope of this tutorial."
   ]
  },
  {
   "cell_type": "code",
   "execution_count": null,
   "metadata": {},
   "outputs": [],
   "source": [
    "from azure.quantum.optimization import ParallelTempering\n",
    "import time\n",
    "\n",
    "# Instantiate a solver to solve the problem. \n",
    "solver = ParallelTempering(workspace, timeout=100)\n",
    "\n",
    "# Optimize the problem\n",
    "print('Submitting problem...')\n",
    "start = time.time()\n",
    "result = solver.optimize(problem)\n",
    "timeElapsed = time.time() - start\n",
    "print(f'Result in {timeElapsed} seconds: ', result)"
   ]
  },
  {
   "cell_type": "markdown",
   "metadata": {},
   "source": [
    "Lastly, print out a summary of what the solution means:"
   ]
  },
  {
   "cell_type": "code",
   "execution_count": null,
   "metadata": {},
   "outputs": [],
   "source": [
    "def printResultSummary(result):\n",
    "    # Print a summary of the result\n",
    "    shipAWeight = 0\n",
    "    shipBWeight = 0\n",
    "    for container in result['configuration']:\n",
    "        containerAssignment = result['configuration'][container]\n",
    "        containerWeight = containerWeights[int(container)]\n",
    "        ship = ''\n",
    "        if containerAssignment == 1:\n",
    "            ship = 'A'\n",
    "            shipAWeight += containerWeight\n",
    "        else:\n",
    "            ship = 'B'\n",
    "            shipBWeight += containerWeight\n",
    "\n",
    "        print(f'Container {container} with weight {containerWeight} was placed on Ship {ship}')\n",
    "\n",
    "    print(f'\\nTotal weights: \\n\\tShip A: {shipAWeight} tonnes \\n\\tShip B: {shipBWeight} tonnes')\n",
    "\n",
    "printResultSummary(result)"
   ]
  },
  {
   "cell_type": "markdown",
   "metadata": {},
   "source": [
    "## Improving the Cost Function\n",
    "The cost function we've built works well so far, but let's take a closer look at the `Problem` that was generated:\n"
   ]
  },
  {
   "cell_type": "code",
   "execution_count": null,
   "metadata": {},
   "outputs": [],
   "source": [
    "print(f'The problem has {len(problem.terms)} terms for {len(containerWeights)} containers:')\n",
    "print(problem.terms)"
   ]
  },
  {
   "cell_type": "markdown",
   "metadata": {},
   "source": [
    "That's alot of terms for just 10 containers! On closer inspection however, you'll note that there are essentially duplicated terms that result from having squared the right hand side of the equation. For example, look at the last term: `{'w': 110, 'ids': [9, 8]}`. If you look through the rest of the terms, you'll find a symmetrical copy of this term: `{'w': 110, 'ids': [8, 9]}`.\n",
    "\n",
    "This duplicate encodes the exact same information in our cost function. However, because we don't actually care about the value of the cost function (just the shape), we can omit these terms too by a slight modification to our cost function:\n",
    "\n",
    "$$ H^2 = \\Large(\\sum_{i<j} w_{i} x_{i})^2 $$\n",
    "\n",
    "In code, this means a small modification to the `createProblemForContainerWeights` function:"
   ]
  },
  {
   "cell_type": "code",
   "execution_count": null,
   "metadata": {},
   "outputs": [],
   "source": [
    "def createSimplifiedProblemForContainerWeights(containerWeights: List[int]) -> Problem:\n",
    "    terms: List[Term] = []\n",
    "\n",
    "    # Expand the squared summation\n",
    "    for i in range(len(containerWeights)-1):\n",
    "        for j in range(i+1, len(containerWeights)):\n",
    "            terms.append(\n",
    "                Term(\n",
    "                    w = containerWeights[i] * containerWeights[j],\n",
    "                    indices = [i, j]\n",
    "                )\n",
    "            )\n",
    "\n",
    "    # Return an Ising-type problem\n",
    "    return Problem(name=\"Ship Sample Problem (Simplified)\", problem_type=ProblemType.ising, terms=terms)"
   ]
  },
  {
   "cell_type": "markdown",
   "metadata": {},
   "source": [
    "Let's check that this creates a smaller problem:"
   ]
  },
  {
   "cell_type": "code",
   "execution_count": null,
   "metadata": {},
   "outputs": [],
   "source": [
    "# Create the simplified problem\n",
    "simplifiedProblem = createSimplifiedProblemForContainerWeights(containerWeights)\n",
    "print(f'The simplified problem has {len(simplifiedProblem.terms)} terms')"
   ]
  },
  {
   "cell_type": "markdown",
   "metadata": {},
   "source": [
    "Success! The problem has half as many terms. Now let's run it and verify the result:"
   ]
  },
  {
   "cell_type": "code",
   "execution_count": null,
   "metadata": {},
   "outputs": [],
   "source": [
    "# Optimize the problem\n",
    "print('Submitting simplified problem...')\n",
    "start = time.time()\n",
    "simplifiedResult = solver.optimize(simplifiedProblem)\n",
    "timeElapsedSimplified = time.time() - start\n",
    "print(f'Result in {timeElapsedSimplified} seconds: ', simplifiedResult)\n",
    "printResultSummary(simplifiedResult)\n"
   ]
  },
  {
   "cell_type": "markdown",
   "metadata": {},
   "source": [
    "As you can see, the quality of the solution is the same for both cost functions - the ships are loaded within 1 tonne of each other (a perfect solution does not exist). This reveals an important fact about using QIO solvers: it is often possible (and neccesary) to optimize the cost function in order to generate more optimal solutions more quickly."
   ]
  }
 ],
 "metadata": {
  "kernelspec": {
   "display_name": "Python 3",
   "language": "python",
   "name": "python3"
  }
 },
 "nbformat": 4,
 "nbformat_minor": 2
}