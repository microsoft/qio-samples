{
 "cells": [
  {
   "cell_type": "markdown",
   "metadata": {},
   "source": [
    "# Optimization Sample: Multi-ship loading\n",
    "\n",
    "In this example, we will take our learnings from the ship-loading sample and generalize to load-balancing between any number of ships. In addition, we'll see how we can make use of the parameter free-solvers to guide us on a selection of parameters which we can use with the parametrized solvers. "
   ]
  },
  {
   "cell_type": "markdown",
   "metadata": {},
   "source": [
    "## Pre-requisites\n",
    "\n",
    "1. [Create an Azure Quantum Workspace](https://github.com/MicrosoftDocs/quantum-docs-private/wiki/Create-quantum-workspaces-with-the-Azure-portal)\n",
    "2. [Install the `azure-quantum` Python module](https://github.com/MicrosoftDocs/quantum-docs-private/wiki/Use-the-Python-SDK-for-Quantum-Inspired-Optimization).\n",
    "3. [Complete the ship-loading sample](https://github.com/microsoft/qio-samples/tree/main/samples/ship-loading)"
   ]
  },
  {
   "cell_type": "markdown",
   "metadata": {},
   "source": [
    "\n",
    "## The Problem\n",
    "\n",
    "To tackle this problem we will use a PUBO format. As a reminder, these are [cost functions](https://docs.microsoft.com/en-us/azure/quantum/optimization-concepts-cost-functions) where the variables take the values of either 0 or 1 (rather than -1 or 1 for an Ising cost function).\n",
    " \n",
    "In order to balance containers between multiple ships, one option is to define a cost function that:\n",
    "1. Penalizes variance from a theoretical equal distribution (where an equal distribution is the total weight of the containers divided by the number of ships), and,\n",
    "2. Penalizes the assignment of the same container on multiple ships\n",
    "\n",
    "We will create two sub cost-functions $H1$ and $H2$ that we will then sum to evaluate the total cost of a solution. Let's begin with the first cost function, $H1$."
   ]
  },
  {
   "cell_type": "markdown",
   "metadata": {},
   "source": [
    "## Penalize variance from equal distribution between ships\n",
    "\n",
    "Suppose we had 3 containers with respective weights $W0$, $W1$, $W2$, and we define an equal distribution of the container weights to be: \n",
    "\n",
    "$$EqDistrib = (W0 + W1 + W2) / 3$$ \n",
    "\n",
    "A way to penalize a large variance from the equal distribution for a given ship is to express it in the following way:\n",
    "\n",
    "$$(W0 + W1 + W2 - EqDistrib)^2$$\n",
    "\n",
    "Let's take the following example:\n",
    "\n",
    "|                 |               |\n",
    "|-----------------|---------------|\n",
    "|Container weights| 1, 5, 9, 7, 3 |\n",
    "|Total weight     |      25       |\n",
    "|Ships            |     A, B, C   |\n",
    "|EqualDistrib     | 25 / 3 = 8.33 |\n",
    "\n",
    "Suppose we were to assign those containers to the ships listed, we can calculate the variance from the equal distribution for each of the given ships, shown in the rightmost column:\n",
    "\n",
    "| Ships\\Containers | 1 | 5 | 9 | 7 | 3 |            |        |\n",
    "|------------------|---|---|---|---|---|------------|--------|\n",
    "| A                | 0 | 0 | 9 | 0 | 0 | (9-8.33)^2 |= 0.4489|\n",
    "| B                | 0 | 5 | 0 | 0 | 3 |(5+3-8.33)^2|= 0.1089|\n",
    "| C                | 1 | 0 | 0 | 7 | 0 |(1+7-8.33)^2|= 0.1089|"
   ]
  },
  {
   "cell_type": "markdown",
   "metadata": {},
   "source": [
    "As we need to represent our problem in a binary format we need to \"encode\" the presence ($x_i=1$) or absence ($x_i=0$) of a given container on a ship. To do this, we need to have a label for the weight of each container on each ship. The table below shows how we assign this continuous index by repeating the list of container weights for each ship and assigning a single list of weight labels across all three ships:"
   ]
  },
  {
   "cell_type": "markdown",
   "metadata": {},
   "source": [
    "|| Ship A |     |     |     |     |  Ship B |     |     |     |     | Ship C   |        |        |        |        |\n",
    "|---|--------|-----|-----|-----|-----|--------|-----|-----|-----|-----|----------|--------|--------|--------|--------|\n",
    "|Container weight| 1 |  5  |  9  |  7  |  3  | 1 |  5  |  9  |  7  |  3  | 1 | 5 | 9 | 7 | 3  |\n",
    "|Weight label|*w<sub>0</sub>*|*w<sub>1</sub>*|*w<sub>2</sub>*|*w<sub>3</sub>*|*w<sub>4</sub>*| *w<sub>5</sub>*|*w<sub>6</sub>*|*w<sub>7</sub>*|*w<sub>8</sub>*|*w<sub>9</sub>*|*w<sub>10</sub>*|*w<sub>11</sub>*|*w<sub>12</sub>*|*w<sub>13</sub>*|*w<sub>14</sub>*|"
   ]
  },
  {
   "cell_type": "markdown",
   "metadata": {},
   "source": [
    "The cost function $H1$ becomes:\n",
    "\n",
    "$$ H1 = H_{A} + H_{B} + H_{C} $$\n",
    "\n",
    "where:\n",
    "\n",
    "$$ H_{A} = (w_0 x_0 + w_1 x_1 + w_2 x_2 + w_3 x_3 + w_4 x_4 - EqDistrib)^2 $$\n",
    "\n",
    "$$ H_{B} = (w_5 x_5 + w_6 x_6 + w_7 x_7 + w_8 x_8 + w_9 x_9 - EqDistrib)^2 $$\n",
    "\n",
    "and \n",
    "\n",
    "$$ H_{C} = (w_{10} x_{10} + w_{11} x_{11} + w_{12} x_{12} + w_{13} x_{13} + w_{14} x_{14} - EqDistrib)^2 $$"
   ]
  },
  {
   "cell_type": "markdown",
   "metadata": {},
   "source": [
    "We can expand the above and group the common terms, for example if we expand $H_{A}$, we get:\n",
    "\n",
    "$$\n",
    "\\begin{align}\n",
    "H_{A} &= (\\sum_i(w_i x_i) - EqDistrib)^2\\\\ \n",
    "&= (w_0 x_0 + w_1 x_1 + w_2 x_2 + w_3 x_3 + w_4 x_4 - EqDistrib)^2\\\\\n",
    "\\end{align}\n",
    "$$ \n",
    "\n",
    "To simplify things for the expansion, let's rename the variables as follows:\n",
    "\n",
    "$$\n",
    "\\begin{align}\n",
    "w_0 x_0 &= a \\\\\n",
    "w_1 x_1 &= b \\\\\n",
    "w_2 x_2 &= c \\\\\n",
    "w_3 x_3 &= d \\\\\n",
    "w_4 x_4 &= e \\\\\n",
    "EqDistrib &= f \\\\\n",
    "\\end{align}\n",
    "$$ \n",
    "\n",
    "So now we have:\n",
    "\n",
    "$$\n",
    "\\begin{align}\n",
    "H_{A} &= (\\sum_i(w_i x_i) - EqDistrib)^2\\\\ \n",
    "&= (w_0 x_0 + w_1 x_1 + w_2 x_2 + w_3 x_3 + w_4 x_4 - EqDistrib)^2\\\\\n",
    "&= (a + b + c + d + e - f)^2\\\\\n",
    "&= a^2 + b^2 + c^2 + d^2 + e^2 + f^2 + 2(ab + ac + ad + ae + bc + bd + be + cd + ce + de) - 2(af + bf + cf + df + ef)\n",
    "\\end{align}\n",
    "$$ \n",
    "\n",
    "Substituting our original values back in, this gives us the following:\n",
    "\n",
    "$$\n",
    "\\begin{align}\n",
    "H_{A} &= (\\sum_i(w_i x_i) - EqDistrib)^2\\\\ \n",
    "&= w_0^2 x_0^2 + w_1^2 x_1^2 + w_2^2 x_2^2 + w_3^2 x_3^2 + w_4^2 x_4^2 + EqDistrib ^2 + 2(w_0 x_0 \\cdot w_1 x_1 + w_0 x_0 \\cdot w_2 x_2 + w_0 x_0 \\cdot w_3 x_3 + w_0 x_0 \\cdot w_4 x_4 + w_1 x_1 \\cdot w_2 x_2 + w_1 x_1 \\cdot w_3 x_3 + w_1 x_1 \\cdot w_4 x_4 + w_2 x_2 \\cdot w_3 x_3 + w_2 x_2 \\cdot w_4 x_4 + w_3 x_3 \\cdot w_4 x_4) - 2(w_0 x_0 \\cdot EqDistrib +  w_1 x_1 \\cdot EqDistrib + w_2 x_2 \\cdot EqDistrib + w_3 x_3 \\cdot EqDistrib + w_4 x_4 \\cdot EqDistrib)\n",
    "\\end{align}\n",
    "$$ "
   ]
  },
  {
   "cell_type": "markdown",
   "metadata": {},
   "source": [
    "We can do the same for $H_{B}$, and $H_{C}$."
   ]
  },
  {
   "cell_type": "markdown",
   "metadata": {},
   "source": [
    "## Penalize the assignment of the same container on multiple ships"
   ]
  },
  {
   "cell_type": "markdown",
   "metadata": {},
   "source": [
    "Using the containers weight encoding above, we can devise a cost function such as this one for the first container:\n",
    "\n",
    "$$ H_{D} = (w_0 x_0 + w_5 x_5 + w_{10} x_{10} - w_0)^2 $$"
   ]
  },
  {
   "cell_type": "markdown",
   "metadata": {},
   "source": [
    "As $w_0$, $w_5$ and $w_{10}$ are actually the same value (it is the same container represented across multiple ships) we have: \n",
    "$$ H_{D} = (w_0 x_0 + w_0 x_5 + w_0 x_{10} - w_0)^2 $$"
   ]
  },
  {
   "cell_type": "markdown",
   "metadata": {},
   "source": [
    "If we expand and group the common terms, we get the following:\n",
    "\n",
    "$$ H_{D} = {w_0}^2 {x_0}^2 + {w_0}^2 {x_5}^2 + {w_0}^2 {x_{10}}^2 + {w_0}^2 +\n",
    "2 ({w_0}^2 x_0 x_5 + {w_0}^2 x_0 x_{10} + {w_0}^2 x_5 x_{10})\n",
    "- 2({w_0}^2 x_0 + {w_0}^2 x_5 + {w_0}^2 x_{10}) $$"
   ]
  },
  {
   "cell_type": "markdown",
   "metadata": {},
   "source": [
    "We can then repeat the above for each container across all ships:\n",
    "\n",
    "So in addition to:\n",
    "\n",
    "$$ H_{D} = (w_0 x_0 + w_0 x_5 + w_0 x_{10} - w_0)^2 $$\n",
    "\n",
    "we also have:\n",
    "\n",
    "$$ H_{E} = (w_1 x_1 + w_1 x_6 + w_1 x_{11} - w_1)^2 $$ \n",
    "$$ H_{F} = (w_2 x_2 + w_2 x_7 + w_2 x_{12} - w_2)^2 $$\n",
    "$$ H_{G} = (w_3 x_3 + w_3 x_8 + w_3 x_{13} - w_3)^2 $$\n",
    "$$ H_{H} = (w_4 x_4 + w_4 x_9 + w_4 x_{14} - w_4)^2 $$"
   ]
  },
  {
   "cell_type": "markdown",
   "metadata": {},
   "source": [
    "Grouping these together into a single cost function, $H2$, we get:\n",
    "\n",
    "$$ H2 = H_{D} + H_{E} + H_{F}+ H_{G}+ H_{H} $$\n",
    "\n",
    "which we can expand and group the terms as we did with $H_D$ above.\n"
   ]
  },
  {
   "cell_type": "markdown",
   "metadata": {},
   "source": [
    "## Combining our cost functions\n",
    "\n",
    "The final part of the problem definition is to combine our cost functions $H1$ and $H2$:\n",
    "\n",
    "$$H = H1 + H2 $$\n",
    "\n",
    "You will notice that $H1$ and $H2$ have common indices $[i,i]/[m,m]$ and $[i]/[m]$. We will need to be careful to not duplicate them, but sum them, in our final list of terms describing the cost function."
   ]
  },
  {
   "cell_type": "markdown",
   "metadata": {},
   "source": [
    "\n",
    "## Solving the Problem in Python\n",
    "\n",
    "First, we must instantiate a `Workspace` object which allows you to connect to the Workspace you've previously deployed in Azure. Be sure to fill in the settings below which can be retrieved by running `az quantum workspace show`."
   ]
  },
  {
   "cell_type": "code",
   "execution_count": null,
   "metadata": {},
   "outputs": [],
   "source": [
    "# This allows you to connect to the Workspace you've previously deployed in Azure.\n",
    "# Be sure to fill in the settings below which can be retrieved by running 'az quantum workspace show' in the terminal.\n",
    "from azure.quantum import Workspace\n",
    "\n",
    "# Copy the settings for your workspace below\n",
    "workspace = Workspace (\n",
    "    subscription_id = \"\",\n",
    "    resource_group = \"\",\n",
    "    name = \"\",\n",
    "    location = \"\"\n",
    ")"
   ]
  },
  {
   "cell_type": "markdown",
   "metadata": {},
   "source": [
    "First, let's define a function to add terms according to our definition of the H1 cost function, where we penalized the variance from an equal distribution between the ships."
   ]
  },
  {
   "cell_type": "code",
   "execution_count": null,
   "metadata": {},
   "outputs": [],
   "source": [
    "def AddTermsWeightVarianceCost(start, end, containers, EqDistrib):\n",
    "    terms: List[Term] = []\n",
    "    for i,w in enumerate(containers[start:end+1], start):\n",
    "        # -2*Wi*EqDistrib.xi -2Wi^2.xi (weight variance cost + duplicate container cost)\n",
    "        terms.append(Term(w=-2*w*EqDistrib - 2*w*w, indices=[i]))\n",
    "        # Wi^2.xi^2 + Wi^2.xi^2 (weight variance cost + duplicate container cost)\n",
    "        terms.append(Term(w=2*w*w, indices=[i,i]))\n",
    "\n",
    "    for c in combinations(range(start, end+1), 2):\n",
    "        w0 = containers[c[0]]\n",
    "        w1 = containers[c[1]]\n",
    "        # 2*Wi*Wj (weight variance cost)\n",
    "        terms.append(Term(w=2*w0*w1, indices=[c[0],c[1]]))\n",
    "\n",
    "    return terms"
   ]
  },
  {
   "cell_type": "markdown",
   "metadata": {},
   "source": [
    "Next, let's incorporate our definition of the second part of our cost function, H2, where we wished to penalize the assignment of the same container on multiple ships."
   ]
  },
  {
   "cell_type": "code",
   "execution_count": null,
   "metadata": {},
   "outputs": [],
   "source": [
    "def AddTermsDuplicateContainerCost(start, end, containers):\n",
    "    terms: List[Term] = []\n",
    "\n",
    "    # The following is integrated into AddTermsWeightVarianceCost to reduce the number of Terms and speed-up Terms generation\n",
    "    # for c in combinations(range(start, end+1), 1):\n",
    "    #     w = containers[c[0]][0]\n",
    "    #     i1 = containers[c[0]][1]\n",
    "    #     terms.append(Term(w=w*w, indices=[i1,i1]))              # Wi^2\n",
    "\n",
    "    # 2.w^2.x_i.x_j terms\n",
    "    for c in combinations(range(start, end+1), 2):\n",
    "        w = containers[c[0]][0]\n",
    "        i1 = containers[c[0]][1]\n",
    "        i2 = containers[c[1]][1]\n",
    "        terms.append(Term(w=2*w*w, indices=[i1,i2]))            # Term(w=2*Wm^2, [m,n])\n",
    "\n",
    "    # The following is integrated into AddTermsWeightVarianceCost to reduce the number of Terms and speed-up Terms generation\n",
    "    # # for c in combinations(range(start, end+1), 1):\n",
    "    #     w = containers[c[0]][0]\n",
    "    #     i1 = containers[c[0]][1]\n",
    "    #     terms.append(Term(w=-2*w*w, indices=[i1]))              # -2*Wi^2\n",
    "\n",
    "    # w^2 term\n",
    "    terms.append(Term(w=containers[start][0]*containers[start][0], indices=[]))\n",
    "\n",
    "    return terms"
   ]
  },
  {
   "cell_type": "markdown",
   "metadata": {},
   "source": [
    "Combining these together, we can create our cost function definition of the multi-ship problem."
   ]
  },
  {
   "cell_type": "code",
   "execution_count": null,
   "metadata": {},
   "outputs": [],
   "source": [
    "from typing import List\n",
    "from azure.quantum.optimization import Term\n",
    "import numpy as np\n",
    "from itertools import combinations\n",
    "\n",
    "def createProblemForContainerWeights(containerWeights: List[int], Ships) -> List[Term]:\n",
    "\n",
    "    terms: List[Term] = []\n",
    "    containersWithinShip: List[int] = []\n",
    "    containersAcrossShips: List[int, int] = []\n",
    "    totalWeight = 0\n",
    "    EqDistrib = 0\n",
    "\n",
    "    for c in range (len(containerWeights)):\n",
    "        totalWeight = totalWeight + containerWeights[c]\n",
    "    EqDistrib = totalWeight / len(Ships)\n",
    "    print(Ships)\n",
    "    print(containerWeights)\n",
    "    print(\"Total Weight:\", totalWeight)\n",
    "    print(\"Equal weight distribution:\", EqDistrib)\n",
    "\n",
    "    # Create container weights in this format:\n",
    "    # 1  5  9  7  3  - 1  5  9  7  3  - 1   5   9   7   3\n",
    "    # W0 W1 W2 W3 W4   W5 W6 W7 W8 W9   W10 W11 W12 W13 W14 \n",
    "    containersWithinShip = containerWeights*len(Ships)\n",
    "\n",
    "    # Create container weights in this format:\n",
    "    # 1  1  1  5  5  5  9  9  9  7  7  7  3  3  3\n",
    "    for i in range(len(containerWeights)):\n",
    "        for j in range(len(Ships)):\n",
    "            k = i + j*len(containerWeights)\n",
    "            containersAcrossShips.append([containersWithinShip[i], k])\n",
    "\n",
    "    for split in np.array_split(range(len(containersWithinShip)), len(Ships)):\n",
    "        terms = terms + AddTermsWeightVarianceCost(split[0], split[-1], containersWithinShip, EqDistrib)\n",
    "\n",
    "    for split in np.array_split(range(len(containersAcrossShips)), len(containerWeights)):\n",
    "        terms = terms + AddTermsDuplicateContainerCost(split[0], split[-1], containersAcrossShips)\n",
    "\n",
    "    return terms"
   ]
  },
  {
   "cell_type": "markdown",
   "metadata": {},
   "source": [
    "Before we solve our problem, let's create a function to help us visualize the results of the solver:"
   ]
  },
  {
   "cell_type": "code",
   "execution_count": null,
   "metadata": {},
   "outputs": [],
   "source": [
    "def visualize_result(result, containers, ships, target):\n",
    "    print(\"\\rResult received from: \", target)\n",
    "    nb_ships = len(ships)\n",
    "    try:\n",
    "        config = result['configuration']\n",
    "        config = list(config.values())\n",
    "        for ship, sub_config in enumerate(np.array_split(config, nb_ships)):\n",
    "            shipWeight = 0\n",
    "            for c,b in enumerate(sub_config):\n",
    "                shipWeight = shipWeight + b*containers[c]\n",
    "            print(f'Ship {ships[ship]}: \\t' + ''.join(f'{b*containers[c]}' for c,b in enumerate(sub_config)) + ' - ' + str(shipWeight))\n",
    "    except:\n",
    "        print('No Configuration')\n",
    "    try:\n",
    "        print('Cost: {}'.format(result['cost']))\n",
    "    except:\n",
    "        print('No Cost')\n",
    "    try:\n",
    "        print('Parameters: {}'.format(result['parameters']))\n",
    "    except:\n",
    "        print('No Parameter')"
   ]
  },
  {
   "cell_type": "markdown",
   "metadata": {},
   "source": [
    "Lastly, let's define a function that will submit our problem to Azure Quantum and visualize the results."
   ]
  },
  {
   "cell_type": "code",
   "execution_count": null,
   "metadata": {},
   "outputs": [],
   "source": [
    "def SolveMyProblem(problem, s):\n",
    "    try:\n",
    "        # Optimize the problem\n",
    "        print(\"Optimizing with:\", s.name)\n",
    "        Job = s.submit(problem)\n",
    "        Job.wait_until_completed()\n",
    "        duration = Job.details.end_execution_time - Job.details.begin_execution_time\n",
    "        if (Job.details.status == \"Succeeded\"):\n",
    "            visualize_result(Job.get_results(), containerWeights*len(Ships), Ships, s.name)\n",
    "            print(\"Execution duration: \", duration)\n",
    "        else:\n",
    "            print(\"\\rJob ID\", Job.id, \"failed\")\n",
    "        return Job.id\n",
    "    except BaseException as e:\n",
    "        print(e)"
   ]
  },
  {
   "cell_type": "markdown",
   "metadata": {},
   "source": [
    "## Submitting our problem to Azure Quantum"
   ]
  },
  {
   "cell_type": "markdown",
   "metadata": {},
   "source": [
    "Now, we can put it all together. In the following steps we'll:\n",
    "1. Define the list of containers and their weights\n",
    "2. Instantiate the problem, creating our list of terms\n",
    "3. Submit these terms to a parameter-free solver\n",
    "4. Use the parameters returned to submit the problem to a parametrized solver"
   ]
  },
  {
   "cell_type": "code",
   "execution_count": null,
   "metadata": {},
   "outputs": [],
   "source": [
    "# This array contains a list of the weights of the containers:\n",
    "containerWeights = [3, 8, 3, 4, 1, 5, 2, 2, 7, 9, 5, 4, 8, 9, 4, 6, 8, 7, 6, 2, 2, 9, 4, 6, 3, 8, 5, 7, 2, 4, 9, 4]\n",
    "Ships = [\"A\", \"B\", \"C\", \"D\", \"E\"]"
   ]
  },
  {
   "cell_type": "code",
   "execution_count": null,
   "metadata": {},
   "outputs": [],
   "source": [
    "# Create the Terms for this list of containers:\n",
    "terms = createProblemForContainerWeights(containerWeights,Ships)"
   ]
  },
  {
   "cell_type": "code",
   "execution_count": null,
   "metadata": {},
   "outputs": [],
   "source": [
    "from azure.quantum.optimization import Problem, ProblemType\n",
    "\n",
    "# Create the Problem to submit to the solver:\n",
    "nbTerms = len(terms)\n",
    "problemName = f'Balancing {str(len(containerWeights))} containers between {str(len(Ships))} Ships ({nbTerms:,} terms)'\n",
    "print(problemName)\n",
    "problem = Problem(name=problemName, problem_type=ProblemType.pubo, terms=terms)"
   ]
  },
  {
   "cell_type": "code",
   "execution_count": null,
   "metadata": {},
   "outputs": [],
   "source": [
    "from azure.quantum.optimization import SimulatedAnnealing\n",
    "\n",
    "# Try to call a solver with different timeout value and see if it affects the results\n",
    "jobid = SolveMyProblem(problem, SimulatedAnnealing(workspace, timeout=10))\n",
    "# jobid = SolveMyProblem(problem, SimulatedAnnealing(workspace, timeout=20))\n",
    "# jobid = SolveMyProblem(problem, SimulatedAnnealing(workspace, timeout=30))\n",
    "# jobid = SolveMyProblem(problem, SimulatedAnnealing(workspace))"
   ]
  },
  {
   "cell_type": "code",
   "execution_count": null,
   "metadata": {},
   "outputs": [],
   "source": [
    "# Try using the parameters returned by the parameter free versions and observe the significant performance improvement\n",
    "\n",
    "# First use the job id to view the parameters selected by the parameter free solver\n",
    "job = workspace.get_job(jobid)\n",
    "results = job.get_results()\n",
    "\n",
    "print(results)"
   ]
  },
  {
   "cell_type": "code",
   "execution_count": null,
   "metadata": {},
   "outputs": [],
   "source": [
    "# From the results, let's extract the beta_start, beta_stop, restarts, and sweeps parameters selected\n",
    "\n",
    "beta_start = results[\"parameters\"][\"beta_start\"]\n",
    "beta_stop = results[\"parameters\"][\"beta_stop\"]\n",
    "restarts = results[\"parameters\"][\"restarts\"]\n",
    "sweeps = results[\"parameters\"][\"sweeps\"]"
   ]
  },
  {
   "cell_type": "code",
   "execution_count": null,
   "metadata": {},
   "outputs": [],
   "source": [
    "# Now let's call the solver again, this time the parametrized version, using these parameters\n",
    "\n",
    "jobid = SolveMyProblem(problem, SimulatedAnnealing(workspace, timeout=5, beta_start=beta_start, beta_stop=beta_stop, restarts=restarts, sweeps=sweeps))\n"
   ]
  },
  {
   "cell_type": "code",
   "execution_count": null,
   "metadata": {},
   "outputs": [],
   "source": [
    "from azure.quantum.optimization import ParallelTempering, Tabu, HardwarePlatform, QuantumMonteCarlo\n",
    "\n",
    "# Here's how we could experiment with different solvers from Microsoft\n",
    "\n",
    "jobid = SolveMyProblem(problem, Tabu(workspace, timeout=5))\n",
    "# jobid = SolveMyProblem(problem, ParallelTempering(workspace, timeout=60))\n",
    "# jobid = SolveMyProblem(problem, QuantumMonteCarlo(workspace))"
   ]
  },
  {
   "cell_type": "code",
   "execution_count": null,
   "metadata": {},
   "outputs": [],
   "source": [
    "from azure.quantum.target.oneqbit import PathRelinkingSolver\n",
    "\n",
    "# And how we can submit the same jobs to solvers by third-party providers, such as 1QBit\n",
    "# Note: PathRelinkingSolver is only available if the 1QBit provider is enabled in your quantum workspace\n",
    "\n",
    "# jobid = SolveMyProblem(problem, PathRelinkingSolver(workspace))"
   ]
  },
  {
   "cell_type": "code",
   "execution_count": null,
   "metadata": {},
   "outputs": [],
   "source": []
  }
 ],
 "metadata": {
  "kernelspec": {
   "display_name": "Python 3.9.6 ('ox')",
   "language": "python",
   "name": "python3"
  },
  "language_info": {
   "codemirror_mode": {
    "name": "ipython",
    "version": 3
   },
   "file_extension": ".py",
   "mimetype": "text/x-python",
   "name": "python",
   "nbconvert_exporter": "python",
   "pygments_lexer": "ipython3",
   "version": "3.9.6"
  },
  "vscode": {
   "interpreter": {
    "hash": "805439d861d42ff8de8cc8a76c0c40b0e08a20196fb2a3122a7ae0b5538a6364"
   }
  }
 },
 "nbformat": 4,
 "nbformat_minor": 2
}
