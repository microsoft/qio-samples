{
  "cells": [
    {
      "cell_type": "markdown",
      "source": [
        "# 👋🌍 Hello, world: Submit an optimization job to Microsoft QIO\n",
        "\n",
        "This notebook will walk through how to use Azure Quantum to submit optimization problems to [Microsoft QIO](https://docs.microsoft.com/azure/quantum/optimization-overview-introduction).\n",
        "\n",
        "## Submit a simple job to Microsoft QIO using Azure Quantum\n",
        "\n",
        "Let's begin. All code in this example will be written in Python. When you see a code block, hover over it and click the triangle play-button to execute it. To avoid any compilation issues, this should be done in order from top to bottom."
      ],
      "metadata": {}
    },
    {
      "cell_type": "markdown",
      "source": [
        "### 1. Connect to the Azure Quantum workspace\r\n",
        "The first step is connecting to your Azure Quantum workspace. To do so, simply create a `Workspace` object as seen in the following code cell. The parameters corresponding to your workspace should have been automatically entered for you."
      ],
      "metadata": {
        "nteract": {
          "transient": {
            "deleting": false
          }
        }
      }
    },
    {
      "cell_type": "code",
      "source": [
        "from azure.quantum import Workspace\n",
        "\n",
        "workspace = Workspace (\n",
        "    subscription_id = \"\",\n",
        "    resource_group = \"\",\n",
        "    name = \"\",\n",
        "    location = \"\"\n",
        ")"
      ],
      "outputs": [],
      "execution_count": null,
      "metadata": {}
    },
    {
      "cell_type": "markdown",
      "source": [
        "Let's use the `Workspace` object to view the available _targets_."
      ],
      "metadata": {
        "nteract": {
          "transient": {
            "deleting": false
          }
        }
      }
    },
    {
      "cell_type": "code",
      "source": [
        "targets = workspace.get_targets()\r\n",
        "print(\"This workspace's targets:\")\r\n",
        "for target in targets:\r\n",
        "    print(\"-\", target.name)"
      ],
      "outputs": [],
      "execution_count": null,
      "metadata": {
        "jupyter": {
          "source_hidden": false,
          "outputs_hidden": false
        },
        "nteract": {
          "transient": {
            "deleting": false
          }
        }
      }
    },
    {
      "cell_type": "markdown",
      "source": [
        "The resulting list should contain a list of target names, along with some details for each one. A _target_ is a remote solver that can perform optimization or quantum computation. In this example, we will focus on optimization."
      ],
      "metadata": {
        "nteract": {
          "transient": {
            "deleting": false
          }
        }
      }
    },
    {
      "cell_type": "markdown",
      "source": [
        "### ❕ Do you see `microsoft.simulatedannealing-parameterfree.cpu` in your list of targets? If so, you're ready to keep going.\r\n",
        "\r\n",
        "Don't see it? You may need to add Microsoft QIO to your workspace to run this sample. Navigate to the **Providers** page in the portal and click **+Add** to add the Microsoft QIO provider."
      ],
      "metadata": {
        "nteract": {
          "transient": {
            "deleting": false
          }
        }
      }
    },
    {
      "cell_type": "markdown",
      "source": [
        "### Microsoft QIO: The optimization provider\r\n",
        "Azure Quantum connects with first- and third-party optimizers to deliver optimization solutions. These offerings are called *providers*. Each provider can offer multiple *targets* with different capabilities. See the table below for Microsoft QIO's targets.\r\n",
        "\r\n",
        "**Microsoft QIO target ID anatomy**: `microsoft.{algorithm name}.{hardware type}`. Algorithm names ending in `-parameterfree` use automatic parameter selection. \r\n",
        "\r\n",
        "Optimization Algorithm | Target IDs | Python Class\r\n",
        "| --- | ---| ---| --- | -- |\r\n",
        "[Simulated annealing](https://docs.microsoft.com/azure/quantum/optimization-simulated-annealing) | `microsoft.simulatedannealing.cpu`,<br/>`microsoft.simulatedannealing-parameterfree.cpu`,<br/>`microsoft.simulatedannealing.fpga` |  `azure.quantum.optimization.SimulatedAnnealing` |\r\n",
        "[Parallel tempering](https://docs.microsoft.com/azure/quantum/optimization-parallel-tempering) | `microsoft.paralleltempering.cpu`,<br/>`microsoft.paralleltempering-parameterfree.cpu`,<br/>`microsoft.paralleltempering.fpga`  | `azure.quantum.optimization.ParallelTempering`\r\n",
        "[Tabu search](https://docs.microsoft.com/en-us/azure/quantum/optimization-tabu-search) | `microsoft.tabu.cpu`,<br/>`microsoft.tabu-parameterfree.cpu`  | `azure.quantum.optimization.Tabu`\r\n",
        "[Quantum Monte Carlo](https://docs.microsoft.com/azure/quantum/optimization-quantum-monte-carlo) | `microsoft.qmc.cpu`  | `azure.quantum.optimization.QuantumMonteCarlo`\r\n",
        "[Population annealing](https://docs.microsoft.com/azure/quantum/optimization-population-annealing) | `microsoft.populationannealing.cpu`  | `azure.quantum.optimization.PopulationAnnealing`\r\n",
        "[Substochastic Monte Carlo](https://docs.microsoft.com/azure/quantum/optimization-substochastic-monte-carlo) | `microsoft.substochasticmontecarlo.cpu`  | `azure.quantum.optimization.SubstochasticMonteCarlo`\r\n",
        "\r\n",
        "For this example, we will use `microsoft.simulatedannealing-parameterfree.cpu`. To learn more about Microsoft QIO's targets, check out our [documentation](https://docs.microsoft.com/azure/quantum/provider-microsoft-qio)."
      ],
      "metadata": {
        "nteract": {
          "transient": {
            "deleting": false
          }
        }
      }
    },
    {
      "cell_type": "markdown",
      "source": [
        "### 2. Define an optimization job\r\n",
        "We will demonstrate how to use Azure Quantum for optimization by submitting a very simple cost function. Let's define one that contains just two terms."
      ],
      "metadata": {}
    },
    {
      "cell_type": "code",
      "source": [
        "from typing import List\n",
        "from azure.quantum.optimization import Problem, ProblemType, Term\n",
        "\n",
        "terms = [Term(c=1, indices=[1, 0]), Term(c=2, indices=[0, 1])]\n",
        "problem = Problem(name=\"Optimization problem\", problem_type=ProblemType.ising, terms=terms)\n",
        "\n",
        "print(\"Name:\", problem.name)\n",
        "print(\"Number of terms:\", len(problem.terms))\n",
        "print(\"Problem type:\", problem.problem_type)"
      ],
      "outputs": [],
      "execution_count": null,
      "metadata": {}
    },
    {
      "cell_type": "markdown",
      "source": [
        "You should see the problem details in the output. Note that this problem uses `ProblemType.ising`, which means it uses an [Ising model](https://docs.microsoft.com/azure/quantum/optimization-concepts-ising-model-for-optimization). [Binary optimization](https://docs.microsoft.com/azure/quantum/optimization-binary-optimization) formulations (such as PUBO) are also supported. Read more about problem types [here](https://docs.microsoft.com/azure/quantum/optimization-problem-type).  "
      ],
      "metadata": {
        "nteract": {
          "transient": {
            "deleting": false
          }
        }
      }
    },
    {
      "cell_type": "markdown",
      "source": [
        "### 3. Submit the job\n",
        "Now that we've defined a problem, we can submit it to Azure Quantum. Note that this will consume a few seconds of computation time, but all workspaces get one free hour of computation on Microsoft QIO (and the problem should only take a few seconds)."
      ],
      "metadata": {}
    },
    {
      "cell_type": "code",
      "source": [
        "from azure.quantum.optimization import SimulatedAnnealing\n",
        "import time\n",
        "\n",
        "# Instantiate a solver to solve the problem. \n",
        "solver = SimulatedAnnealing(workspace, timeout=100)\n",
        "\n",
        "# Optimize the problem.\n",
        "print('Submitting problem...')\n",
        "start = time.time()\n",
        "result = solver.optimize(problem)\n",
        "time_elapsed = time.time() - start\n",
        "solutions = result['solutions']\n",
        "\n",
        "# Print the solution(s).\n",
        "print(f'\\nObtained result in {time_elapsed} seconds.')\n",
        "print(f'Computed {len(solutions)} solution(s).')\n",
        "for i in range(len(solutions)):\n",
        "    print(f'Solution {i}:')\n",
        "    print('\\tCost:', solutions[i]['cost'])\n",
        "    print('\\tConfiguration:', solutions[i]['configuration'])"
      ],
      "outputs": [],
      "execution_count": null,
      "metadata": {}
    },
    {
      "cell_type": "markdown",
      "source": [
        "**See a solutiuon listed above? Congratulations, you've submitted an optimization job with Azure Quantum! 👏**"
      ],
      "metadata": {
        "nteract": {
          "transient": {
            "deleting": false
          }
        }
      }
    },
    {
      "cell_type": "markdown",
      "source": [
        "### 4. Next steps\r\n",
        "Next, you can try submitting an optimization job to other solvers that Microsoft QIO offers. Or try submitting to another provider entirely by navigating back to the sample gallery. The same \"hello world\" sample can be run with different optimization providers by choosing another option in the gallery card drop-down menu. Don't worry - your work here is automatically saved."
      ],
      "metadata": {
        "nteract": {
          "transient": {
            "deleting": false
          }
        }
      }
    }
  ],
  "metadata": {
    "kernelspec": {
      "name": "python3",
      "language": "python",
      "display_name": "Python 3 (ipykernel)"
    },
    "language_info": {
      "name": "python",
      "version": "3.7.12",
      "mimetype": "text/x-python",
      "codemirror_mode": {
        "name": "ipython",
        "version": 3
      },
      "pygments_lexer": "ipython3",
      "nbconvert_exporter": "python",
      "file_extension": ".py"
    },
    "kernel_info": {
      "name": "python3"
    },
    "nteract": {
      "version": "nteract-front-end@1.0.0"
    }
  },
  "nbformat": 4,
  "nbformat_minor": 2
}